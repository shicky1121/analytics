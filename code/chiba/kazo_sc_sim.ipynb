{
 "cells": [
  {
   "cell_type": "markdown",
   "metadata": {},
   "source": [
    "分析コードの解析  \n",
    "・とりあえず式の意味を理解すること  \n",
    "・記述で気になった箇所のチェックに主眼を置いて作業していく"
   ]
  },
  {
   "cell_type": "code",
   "execution_count": 1,
   "metadata": {},
   "outputs": [],
   "source": [
    "# coding: utf-8\n",
    "\n",
    "# SC_sim_最適化.py\n",
    "\n",
    "# data1=(data1[:,0]) #町丁目のFID\n",
    "# data1=(data1[:,1]) #町丁目のcode\n",
    "# data1=(data1[:,2]) #町丁目の人口数\n",
    "# data1=(data1[:,3]) #町丁目中心点のX_utm座標\n",
    "# data1=(data1[:,4]) #町丁目中心点のY_utm座標\n",
    "\n",
    "# store1=(store1[:,0]) #店舗のFID\n",
    "# store1=(store1[:,1]) #店舗のX_utm座標\n",
    "# store1=(store1[:,2]) #店舗のY_utm座標\n",
    "# store1=(store1[:,3]) #店舗の面積（㎡）\n",
    "# store1=(store1[:,4]) #店舗のテナント得点\n",
    "\n",
    "path = r'/Users/y_takebayashi/Dropbox/07_workspace/chiba'\n",
    "import sys\n",
    "import numpy as np\n",
    "import math\n",
    "np.set_printoptions(suppress=True) #指数表示にしない"
   ]
  },
  {
   "cell_type": "markdown",
   "metadata": {},
   "source": [
    "以下のコードで気になったこと  \n",
    "・しじみさんがこの時に使ったPCのpythonって２系？"
   ]
  },
  {
   "cell_type": "code",
   "execution_count": 7,
   "metadata": {},
   "outputs": [
    {
     "name": "stdout",
     "output_type": "stream",
     "text": [
      "町丁目数 = 3541\n",
      "店舗数 = 34\n"
     ]
    }
   ],
   "source": [
    "data1 = np.loadtxt('data11.csv',comments='OBJECTID',delimiter=',',dtype='float')\n",
    "store1 = np.loadtxt('store11.csv',comments='OBJECTID',delimiter=',',dtype='float')\n",
    "\n",
    "\n",
    "# print(data1)\n",
    "# print(store1)\n",
    "# print(data2)\n",
    "\n",
    "'''\n",
    "町丁目数と店舗数が変だったのでコメントアウト\n",
    "\n",
    "n1=436 # 町丁目数\n",
    "m1=58 # 店舗数＝9\n",
    "\n",
    "\n",
    "print u'町丁目数=',\n",
    "print(n1)\n",
    "print u\"店舗数=\",\n",
    "print(m1\n",
    "print(\"\")\n",
    "\n",
    "'''\n",
    "\n",
    "# 上記での定義が怪しかったので、データより再定義しなおした\n",
    "\n",
    "n1 = len(data1)\n",
    "m1 = len(store1)\n",
    "\n",
    "print(u'町丁目数 =',n1)\n",
    "print(u\"店舗数 =\", m1)\n",
    "\n",
    "\n",
    "from numpy import *\n",
    "\n",
    "dist1=np.zeros((n1,m1))\n",
    "memb1=np.zeros((n1,m1))\n",
    "memb2=np.zeros((n1,m1))\n",
    "memb3=np.zeros((n1,m1))\n",
    "smem=np.zeros(n1)\n",
    "ssmem=np.zeros((m1,2))\n",
    "differ=np.zeros(m1)\n",
    "attract=np.zeros(m1)\n",
    "#ctattract=np.zeros(n2)\n",
    "#popu=np.zeros(n2)\n",
    "stpopu=np.zeros(m1)"
   ]
  },
  {
   "cell_type": "code",
   "execution_count": 9,
   "metadata": {},
   "outputs": [
    {
     "name": "stdout",
     "output_type": "stream",
     "text": [
      "7042979.0\n"
     ]
    }
   ],
   "source": [
    "#------------総人口の算出---------------------------\n",
    "\n",
    "total_population = 0 #研究地域の総人口\n",
    "\n",
    "for i in range(0, n1, 1):\n",
    "    total_population = total_population + data1[i,2]\n",
    "\n",
    "print(total_population)    "
   ]
  },
  {
   "cell_type": "code",
   "execution_count": 10,
   "metadata": {},
   "outputs": [],
   "source": [
    "#------------直線距離の計算-------------------------\n",
    "\n",
    "for j in range(0, m1, 1):\n",
    "    for i in range(0, n1, 1):\n",
    "        dist1[i,j]=np.sqrt((data1[i,3]-store1[j,1])**2+(data1[i,4]-store1[j,2])**2)\n",
    "\n",
    "# print(data1[0,3])\n",
    "# print(store1[0,4])\n",
    "# print(data1[0,4])\n",
    "# print(store1[0,2])\n",
    "\n",
    "#print(dist1[0,0])"
   ]
  },
  {
   "cell_type": "code",
   "execution_count": 24,
   "metadata": {},
   "outputs": [
    {
     "name": "stdout",
     "output_type": "stream",
     "text": [
      "0.0\n"
     ]
    }
   ],
   "source": [
    "print(attract[0])"
   ]
  },
  {
   "cell_type": "markdown",
   "metadata": {},
   "source": [
    "① store11.csvのデータが変な感じ…  \n",
    "② 魅力度は既にstore11.csvに格納されている様だが、計算しないの？"
   ]
  },
  {
   "cell_type": "code",
   "execution_count": 19,
   "metadata": {},
   "outputs": [
    {
     "ename": "IndexError",
     "evalue": "index 4 is out of bounds for axis 1 with size 4",
     "output_type": "error",
     "traceback": [
      "\u001b[0;31m---------------------------------------------------------------------------\u001b[0m",
      "\u001b[0;31mIndexError\u001b[0m                                Traceback (most recent call last)",
      "\u001b[0;32m<ipython-input-19-f3da2c8887a7>\u001b[0m in \u001b[0;36m<module>\u001b[0;34m()\u001b[0m\n\u001b[1;32m      4\u001b[0m \u001b[0;31m#    attract[j]=sqrt(store1[j,3]/1000)\u001b[0m\u001b[0;34m\u001b[0m\u001b[0;34m\u001b[0m\u001b[0m\n\u001b[1;32m      5\u001b[0m \u001b[0;31m#    attract[j]=(store1[j,3]/1000)\u001b[0m\u001b[0;34m\u001b[0m\u001b[0;34m\u001b[0m\u001b[0m\n\u001b[0;32m----> 6\u001b[0;31m     \u001b[0mattract\u001b[0m\u001b[0;34m[\u001b[0m\u001b[0mj\u001b[0m\u001b[0;34m]\u001b[0m \u001b[0;34m=\u001b[0m \u001b[0mstore1\u001b[0m\u001b[0;34m[\u001b[0m\u001b[0mj\u001b[0m\u001b[0;34m,\u001b[0m\u001b[0;36m4\u001b[0m\u001b[0;34m]\u001b[0m\u001b[0;34m\u001b[0m\u001b[0m\n\u001b[0m\u001b[1;32m      7\u001b[0m \u001b[0;34m\u001b[0m\u001b[0m\n\u001b[1;32m      8\u001b[0m \u001b[0;31m# print(u'店舗魅力度 =' attract)\u001b[0m\u001b[0;34m\u001b[0m\u001b[0;34m\u001b[0m\u001b[0m\n",
      "\u001b[0;31mIndexError\u001b[0m: index 4 is out of bounds for axis 1 with size 4"
     ]
    }
   ],
   "source": [
    "#----------------魅力度計算-------------------------\n",
    "\n",
    "for j in range(0, m1, 1):\n",
    "#    attract[j]=sqrt(store1[j,3]/1000)\n",
    "#    attract[j]=(store1[j,3]/1000)\n",
    "    attract[j] = store1[j,4]\n",
    "\n",
    "# print(u'店舗魅力度 =' attract)\n"
   ]
  },
  {
   "cell_type": "code",
   "execution_count": 28,
   "metadata": {},
   "outputs": [
    {
     "name": "stdout",
     "output_type": "stream",
     "text": [
      "3954177.219\n"
     ]
    }
   ],
   "source": [
    "print(store1[1,3])"
   ]
  },
  {
   "cell_type": "code",
   "execution_count": null,
   "metadata": {},
   "outputs": [],
   "source": []
  }
 ],
 "metadata": {
  "kernelspec": {
   "display_name": "Python 3",
   "language": "python",
   "name": "python3"
  },
  "language_info": {
   "codemirror_mode": {
    "name": "ipython",
    "version": 3
   },
   "file_extension": ".py",
   "mimetype": "text/x-python",
   "name": "python",
   "nbconvert_exporter": "python",
   "pygments_lexer": "ipython3",
   "version": "3.6.6"
  }
 },
 "nbformat": 4,
 "nbformat_minor": 2
}
