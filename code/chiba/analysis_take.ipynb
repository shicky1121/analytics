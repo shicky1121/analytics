{
 "cells": [
  {
   "cell_type": "code",
   "execution_count": 2,
   "metadata": {},
   "outputs": [],
   "source": [
    "# coding: utf-8\n",
    "\n",
    "# SC_sim_最適化.py\n",
    "\n",
    "# data1=(data1[:,0]) #町丁目のFID\n",
    "# data1=(data1[:,1]) #町丁目のcode\n",
    "# data1=(data1[:,2]) #町丁目の人口数\n",
    "# data1=(data1[:,3]) #町丁目中心点のX_utm座標\n",
    "# data1=(data1[:,4]) #町丁目中心点のY_utm座標\n",
    "\n",
    "# store1=(store1[:,0]) #店舗のFID\n",
    "# store1=(store1[:,1]) #店舗のX_utm座標\n",
    "# store1=(store1[:,2]) #店舗のY_utm座標\n",
    "# store1=(store1[:,3]) #店舗の面積（㎡）\n",
    "# store1=(store1[:,4]) #店舗のテナント得点\n",
    "\n",
    "# path = r'/Users/kannoyoshimi/Desktop/千葉'\n",
    "path = r'/Users/y_takebayashi/Dropbox/07_workspace/chiba'\n",
    "import sys\n",
    "import numpy as np\n",
    "import math\n",
    "np.set_printoptions(suppress=True) #指数表示にしない"
   ]
  },
  {
   "cell_type": "markdown",
   "metadata": {},
   "source": [
    "コードを読んでみて気になった点をこの形式でコメントしてみた（多少、見やすく区切った）  \n",
    "① data11.csvとstore11.csv の内容を理解できていないので知りたい"
   ]
  },
  {
   "cell_type": "code",
   "execution_count": 3,
   "metadata": {},
   "outputs": [
    {
     "name": "stdout",
     "output_type": "stream",
     "text": [
      "[[6.08000000e+02 8.23200100e+07 1.71300000e+03 ... 6.90951025e+08\n",
      "  7.70081000e-01 1.21214800e+06]\n",
      " [6.08000000e+02 8.23205200e+09 3.88000000e+02 ... 6.90951025e+08\n",
      "  5.96407000e-01 2.53242400e+06]\n",
      " [6.08000000e+02 8.23204900e+09 2.73000000e+02 ... 6.90951025e+08\n",
      "  3.52003000e-01 4.47847400e+06]\n",
      " ...\n",
      " [8.06970000e+04 1.21040010e+08 1.70100000e+03 ... 4.62035697e+08\n",
      "  7.30256000e-01 3.05765500e+06]\n",
      " [8.06970000e+04 1.21040502e+10 1.35390000e+04 ... 4.62035697e+08\n",
      "  7.64742000e-01 1.75703900e+06]\n",
      " [8.06970000e+04 1.21040460e+08 4.90900000e+03 ... 4.62035697e+08\n",
      "  7.95425000e-01 1.18382900e+06]]\n",
      "[[      0.         666.      411831.2921 3950094.668 ]\n",
      " [      1.         661.      416153.9343 3954177.219 ]\n",
      " [      2.        1003.      438384.5835 3961549.474 ]\n",
      " [      3.        1789.      407615.5312 3952485.53  ]\n",
      " [      4.       80409.      401787.818  3945565.251 ]\n",
      " [      5.        1787.      419849.8669 3962425.114 ]\n",
      " [      6.         658.      406233.7904 3968019.475 ]\n",
      " [      7.        6048.      402999.3023 3950449.916 ]\n",
      " [      8.        3202.      409709.8105 3959831.53  ]\n",
      " [      9.        4184.      400839.8487 3913795.776 ]\n",
      " [     10.         688.      398642.2599 3978685.205 ]\n",
      " [     11.        4185.      423298.6819 3953961.319 ]\n",
      " [     12.        6039.      403536.7898 3965860.17  ]\n",
      " [     13.         608.      480964.4151 3951887.573 ]\n",
      " [     14.        2449.      396121.4375 3874436.481 ]\n",
      " [     15.         678.      412775.3421 3954117.341 ]\n",
      " [     16.       80693.      400973.1379 3947745.831 ]\n",
      " [     17.         682.      426094.9451 3954285.61  ]\n",
      " [     18.        2432.      411280.0876 3950015.161 ]\n",
      " [     19.         692.      437863.3026 3930848.719 ]\n",
      " [     20.         696.      395117.5999 3910268.508 ]\n",
      " [     21.         695.      469212.7424 3953489.047 ]\n",
      " [     22.         676.      442443.0772 3935192.261 ]\n",
      " [     23.         693.      418277.1829 3885474.936 ]\n",
      " [     24.       80382.      409025.2351 3923438.445 ]\n",
      " [     25.         675.      436845.984  3920502.549 ]\n",
      " [     26.        8541.      435949.2061 3959525.598 ]\n",
      " [     27.         685.      416009.7231 3943135.865 ]\n",
      " [     28.         698.      425467.0107 3935618.693 ]\n",
      " [     29.        1790.      412055.9571 3945997.516 ]\n",
      " [     30.        6028.      418067.0768 3944033.483 ]\n",
      " [     31.        4120.      413593.8258 3945776.869 ]\n",
      " [     32.       80697.      420136.0035 3946257.014 ]\n",
      " [     33.         674.      437688.0886 3948704.782 ]]\n"
     ]
    }
   ],
   "source": [
    "data1=np.loadtxt('data11.csv',comments='OBJECTID',delimiter=',',dtype='float')\n",
    "store1=np.loadtxt('store11.csv',comments='OBJECTID',delimiter=',',dtype='float')\n",
    "print(data1)\n",
    "print(store1)"
   ]
  },
  {
   "cell_type": "markdown",
   "metadata": {},
   "source": [
    "気になったのでdata11とstore11の配列のサイズをshapeで見てみた"
   ]
  },
  {
   "cell_type": "code",
   "execution_count": 4,
   "metadata": {},
   "outputs": [
    {
     "name": "stdout",
     "output_type": "stream",
     "text": [
      "(3541, 9)\n",
      "(34, 4)\n"
     ]
    }
   ],
   "source": [
    "print(data1.shape)\n",
    "print(store1.shape)"
   ]
  },
  {
   "cell_type": "markdown",
   "metadata": {},
   "source": [
    "見たところ、data1の要素として格納された配列が3541、store1の要素として格納された配列が34  \n",
    "しじみさんのコードを見るに、これらの数はそれぞれ「町丁目数」と「店舗数」と思われる。"
   ]
  },
  {
   "cell_type": "code",
   "execution_count": 5,
   "metadata": {},
   "outputs": [
    {
     "name": "stdout",
     "output_type": "stream",
     "text": [
      "3541\n"
     ]
    }
   ],
   "source": [
    "print(len(data1))"
   ]
  },
  {
   "cell_type": "code",
   "execution_count": 6,
   "metadata": {},
   "outputs": [],
   "source": [
    "'''\n",
    "n1=3541 # 町丁目数\n",
    "m1=34 # 店舗数\n",
    "\n",
    "'''\n",
    "# 町丁目と店舗数が可変でも対応できる様に記述を変えてみた\n",
    "n1 = len(data1) # 町丁目数\n",
    "m1 = len(store1) # 店舗数\n",
    "\n",
    "\n",
    "# 一番上のCellでimportしているので不要\n",
    "# from numpy import *"
   ]
  },
  {
   "cell_type": "markdown",
   "metadata": {},
   "source": [
    "ここで何かを定義してる  \n",
    "※加須市_SC_SIM.pyで色々しているので、あとで見てみる"
   ]
  },
  {
   "cell_type": "code",
   "execution_count": 7,
   "metadata": {},
   "outputs": [],
   "source": [
    "dist1=np.zeros((n1,m1))\n",
    "memb1=np.zeros((n1,m1))\n",
    "memb2=np.zeros((n1,m1))\n",
    "memb3=np.zeros((n1,m1))\n",
    "smem=np.zeros(n1)\n",
    "ssmem=np.zeros((m1,2))\n",
    "differ=np.zeros(m1)\n",
    "attract=np.zeros(m1)\n",
    "#ctattract=np.zeros(n2)\n",
    "#popu=np.zeros(n2)\n",
    "stpopu=np.zeros(m1)"
   ]
  },
  {
   "cell_type": "code",
   "execution_count": 8,
   "metadata": {},
   "outputs": [],
   "source": [
    "#------------直線距離の計算-------------------------\n",
    "\n",
    "for j in range(0, m1, 1):\n",
    "    for i in range(0, n1, 1):\n",
    "        dist1[i,j]=np.sqrt((data1[i,3]-store1[j,2])**2+(data1[i,4]-store1[j,3])**2)\n",
    "\n",
    "#-------------------------------------------------\n",
    "import codecs\n",
    "fin=codecs.open('text1.csv', 'r', 'shift_jis')\n",
    "fout=codecs.open('result99.csv', 'w', 'shift_jis')\n",
    "for line in fin:\n",
    "    fout.write(line)\n",
    "\n",
    "\n",
    "#---------結果出力-----------------------\n",
    "\n",
    "np.savetxt('result99.csv', dist1, fmt='%.01f', delimiter=',')"
   ]
  },
  {
   "cell_type": "markdown",
   "metadata": {},
   "source": []
  },
  {
   "cell_type": "code",
   "execution_count": null,
   "metadata": {},
   "outputs": [],
   "source": []
  }
 ],
 "metadata": {
  "kernelspec": {
   "display_name": "Python 3",
   "language": "python",
   "name": "python3"
  },
  "language_info": {
   "codemirror_mode": {
    "name": "ipython",
    "version": 3
   },
   "file_extension": ".py",
   "mimetype": "text/x-python",
   "name": "python",
   "nbconvert_exporter": "python",
   "pygments_lexer": "ipython3",
   "version": "3.6.6"
  }
 },
 "nbformat": 4,
 "nbformat_minor": 2
}
