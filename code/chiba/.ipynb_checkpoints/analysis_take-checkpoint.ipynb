{
 "cells": [
  {
   "cell_type": "code",
   "execution_count": 6,
   "metadata": {},
   "outputs": [],
   "source": [
    "# coding: utf-8\n",
    "\n",
    "# SC_sim_最適化.py\n",
    "\n",
    "# data1=(data1[:,0]) #町丁目のFID\n",
    "# data1=(data1[:,1]) #町丁目のcode\n",
    "# data1=(data1[:,2]) #町丁目の人口数\n",
    "# data1=(data1[:,3]) #町丁目中心点のX_utm座標\n",
    "# data1=(data1[:,4]) #町丁目中心点のY_utm座標\n",
    "\n",
    "# store1=(store1[:,0]) #店舗のFID\n",
    "# store1=(store1[:,1]) #店舗のX_utm座標\n",
    "# store1=(store1[:,2]) #店舗のY_utm座標\n",
    "# store1=(store1[:,3]) #店舗の面積（㎡）\n",
    "# store1=(store1[:,4]) #店舗のテナント得点\n",
    "\n",
    "# path = r'/Users/kannoyoshimi/Desktop/千葉'\n",
    "path = r'/Users/y_takebayashi/Dropbox/07_workspace/chiba'\n",
    "import sys\n",
    "import numpy as np\n",
    "import math\n",
    "np.set_printoptions(suppress=True) #指数表示にしない"
   ]
  },
  {
   "cell_type": "markdown",
   "metadata": {},
   "source": [
    "コードを読んでみて気になった点をこの形式でコメントしてみた（多少、見やすく区切った）  \n",
    "① data11.csvとstore11.csv の内容を理解できていないので知りたい"
   ]
  },
  {
   "cell_type": "code",
   "execution_count": null,
   "metadata": {},
   "outputs": [],
   "source": [
    "data1=np.loadtxt('data11.csv',comments='OBJECTID',delimiter=',',dtype='float')\n",
    "store1=np.loadtxt('store11.csv',comments='OBJECTID',delimiter=',',dtype='float')\n",
    "print(data1)\n",
    "print(store1)"
   ]
  },
  {
   "cell_type": "markdown",
   "metadata": {},
   "source": [
    "気になったのでdata11とstore11の配列のサイズをshapeで見てみた"
   ]
  },
  {
   "cell_type": "code",
   "execution_count": 8,
   "metadata": {},
   "outputs": [
    {
     "name": "stdout",
     "output_type": "stream",
     "text": [
      "(3541, 9)\n",
      "(34, 4)\n"
     ]
    }
   ],
   "source": [
    "print(data1.shape)\n",
    "print(store1.shape)"
   ]
  },
  {
   "cell_type": "markdown",
   "metadata": {},
   "source": [
    "見たところ、data1の要素として格納された配列が3541、store1の要素として格納された配列が34  \n",
    "しじみさんのコードを見るに、これらの数はそれぞれ「町丁目数」と「店舗数」と思われる。"
   ]
  },
  {
   "cell_type": "code",
   "execution_count": 10,
   "metadata": {},
   "outputs": [
    {
     "name": "stdout",
     "output_type": "stream",
     "text": [
      "3541\n"
     ]
    }
   ],
   "source": [
    "print(len(data1))"
   ]
  },
  {
   "cell_type": "code",
   "execution_count": 11,
   "metadata": {},
   "outputs": [],
   "source": [
    "'''\n",
    "n1=3541 # 町丁目数\n",
    "m1=34 # 店舗数\n",
    "\n",
    "'''\n",
    "# 町丁目と店舗数が可変でも対応できる様に記述を変えてみた\n",
    "n1 = len(data1) # 町丁目数\n",
    "m1 = len(store1) # 店舗数\n",
    "\n",
    "\n",
    "# 一番上のCellでimportしているので不要\n",
    "# from numpy import *"
   ]
  },
  {
   "cell_type": "markdown",
   "metadata": {},
   "source": [
    "ここで何かを定義してる  \n",
    "※加須市_SC_SIM.pyで色々しているので、あとで見てみる"
   ]
  },
  {
   "cell_type": "code",
   "execution_count": null,
   "metadata": {},
   "outputs": [],
   "source": [
    "dist1=np.zeros((n1,m1))\n",
    "memb1=np.zeros((n1,m1))\n",
    "memb2=np.zeros((n1,m1))\n",
    "memb3=np.zeros((n1,m1))\n",
    "smem=np.zeros(n1)\n",
    "ssmem=np.zeros((m1,2))\n",
    "differ=np.zeros(m1)\n",
    "attract=np.zeros(m1)\n",
    "#ctattract=np.zeros(n2)\n",
    "#popu=np.zeros(n2)\n",
    "stpopu=np.zeros(m1)"
   ]
  },
  {
   "cell_type": "markdown",
   "metadata": {},
   "source": []
  },
  {
   "cell_type": "code",
   "execution_count": null,
   "metadata": {},
   "outputs": [],
   "source": [
    "#------------直線距離の計算-------------------------\n",
    "\n",
    "for j in range(0, m1, 1):\n",
    "    for i in range(0, n1, 1):\n",
    "        dist1[i,j]=np.sqrt((data1[i,3]-store1[j,2])**2+(data1[i,4]-store1[j,3])**2)\n",
    "\n",
    "#-------------------------------------------------\n",
    "import codecs\n",
    "fin=codecs.open('text1.csv', 'r', 'shift_jis')\n",
    "fout=codecs.open('result99.csv', 'w', 'shift_jis')\n",
    "for line in fin:\n",
    "    fout.write(line)\n",
    "\n",
    "\n",
    "#---------結果出力-----------------------\n",
    "\n",
    "np.savetxt('result99.csv', dist1, fmt='%.01f', delimiter=',')"
   ]
  },
  {
   "cell_type": "markdown",
   "metadata": {},
   "source": [
    "直線距離の計算のコードで気になった個人的に気になったことなど  \n"
   ]
  },
  {
   "cell_type": "code",
   "execution_count": null,
   "metadata": {},
   "outputs": [],
   "source": []
  }
 ],
 "metadata": {
  "kernelspec": {
   "display_name": "Python 3",
   "language": "python",
   "name": "python3"
  },
  "language_info": {
   "codemirror_mode": {
    "name": "ipython",
    "version": 3
   },
   "file_extension": ".py",
   "mimetype": "text/x-python",
   "name": "python",
   "nbconvert_exporter": "python",
   "pygments_lexer": "ipython3",
   "version": "3.6.6"
  }
 },
 "nbformat": 4,
 "nbformat_minor": 2
}
